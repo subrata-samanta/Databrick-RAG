{
 "cells": [
  {
   "cell_type": "markdown",
   "metadata": {
    "application/vnd.databricks.v1+cell": {
     "cellMetadata": {},
     "inputWidgets": {},
     "nuid": "fc265c89-31f1-4b5a-9fe8-6c688660fd83",
     "showTitle": false,
     "tableResultSettingsMap": {},
     "title": ""
    }
   },
   "source": [
    "# GenAI with Azure Databricks - Developing RAG System"
   ]
  },
  {
   "cell_type": "markdown",
   "metadata": {
    "application/vnd.databricks.v1+cell": {
     "cellMetadata": {},
     "inputWidgets": {},
     "nuid": "083db0c7-f585-4bff-a425-e6611c91e91b",
     "showTitle": false,
     "tableResultSettingsMap": {},
     "title": ""
    }
   },
   "source": [
    "### Loading the csv file into the DBFS (Databricks File System)"
   ]
  },
  {
   "cell_type": "markdown",
   "metadata": {
    "application/vnd.databricks.v1+cell": {
     "cellMetadata": {},
     "inputWidgets": {},
     "nuid": "37a67cea-a717-4b7b-8df1-41364d78b90f",
     "showTitle": false,
     "tableResultSettingsMap": {},
     "title": ""
    }
   },
   "source": [
    "### Loading the csv file into a dataframe"
   ]
  },
  {
   "cell_type": "code",
   "execution_count": 0,
   "metadata": {
    "application/vnd.databricks.v1+cell": {
     "cellMetadata": {
      "byteLimit": 2048000,
      "rowLimit": 10000
     },
     "inputWidgets": {},
     "nuid": "e42efa1a-0304-4544-8bbb-c75eaee7a946",
     "showTitle": false,
     "tableResultSettingsMap": {},
     "title": ""
    },
    "vscode": {
     "languageId": "plaintext"
    }
   },
   "outputs": [
    {
     "output_type": "display_data",
     "data": {
      "text/html": [
       "<style scoped>\n",
       "  .table-result-container {\n",
       "    max-height: 300px;\n",
       "    overflow: auto;\n",
       "  }\n",
       "  table, th, td {\n",
       "    border: 1px solid black;\n",
       "    border-collapse: collapse;\n",
       "  }\n",
       "  th, td {\n",
       "    padding: 5px;\n",
       "  }\n",
       "  th {\n",
       "    text-align: left;\n",
       "  }\n",
       "</style><div class='table-result-container'><table class='table-result'><thead style='background-color: white'><tr><th>Topic</th><th>Description</th></tr></thead><tbody><tr><td>What is diabetes?</td><td>Diabetes is a chronic condition that affects how the body processes glucose (sugar). It occurs when the body cannot produce enough insulin or the insulin it produces is ineffective in regulating blood sugar. Insulin is a hormone produced by the pancreas that helps glucose enter the cells of the body for energy. Without sufficient insulin, glucose builds up in the bloodstream, leading to high blood sugar levels. Over time, uncontrolled diabetes can cause serious health complications such as heart disease, kidney damage, nerve damage, and vision problems. Proper management and treatment of diabetes are essential to preventing these complications and maintaining a good quality of life. Early detection, lifestyle changes, and medication are key factors in effectively managing the disease.</td></tr><tr><td>What are the different types of diabetes?</td><td>Diabetes is categorized into two main types: Type 1 and Type 2. Type 1 diabetes is an autoimmune condition where the body’s immune system attacks and destroys the insulin-producing cells in the pancreas, leading to little or no insulin production. It typically develops in children or young adults and requires lifelong insulin therapy. Type 2 diabetes, on the other hand, occurs when the body becomes resistant to insulin or does not produce enough insulin to meet the body’s needs. It is more common in adults, particularly those who are overweight, inactive, or have a family history of the disease. While Type 1 is not preventable, Type 2 can often be prevented or delayed through lifestyle changes, including diet and exercise.</td></tr><tr><td>What are the symptoms of diabetes?</td><td>The symptoms of diabetes can vary depending on the type and how long the condition has been present. Common signs include frequent urination, excessive thirst, hunger, and unexplained weight loss. Some people may experience blurred vision, fatigue, and slow-healing wounds. In the case of Type 1 diabetes, symptoms often develop rapidly, while Type 2 diabetes symptoms may be more subtle and develop over time. Because the early symptoms may not always be noticeable, it is important to get regular check-ups, especially if you are at risk for diabetes. Uncontrolled diabetes can lead to serious complications, so timely diagnosis and treatment are essential.</td></tr><tr><td>How is diabetes diagnosed?</td><td>Diabetes is diagnosed through various blood tests. The fasting blood glucose test measures blood sugar levels after an overnight fast, while the oral glucose tolerance test checks how well the body processes sugar after consuming a sugary drink. The HbA1c test, which reflects the average blood sugar levels over the past 2-3 months, is also commonly used to diagnose and monitor diabetes. An HbA1c level of 6.5% or higher is typically indicative of diabetes. A diagnosis may also involve checking for other conditions associated with diabetes, such as high blood pressure or cholesterol imbalances. Early detection allows for better management and prevention of complications.</td></tr><tr><td>What is the role of insulin in diabetes?</td><td>Insulin is a hormone produced by the pancreas that helps regulate blood sugar levels by allowing glucose to enter cells for energy. In people with diabetes, either the body does not produce enough insulin (Type 1 diabetes) or the body’s cells do not respond effectively to insulin (Type 2 diabetes). As a result, glucose accumulates in the bloodstream, leading to high blood sugar. Insulin therapy, typically in the form of injections or an insulin pump, helps to lower blood sugar levels and mimic the body’s natural insulin production. Insulin is a crucial part of managing diabetes, particularly for those with Type 1, and can also be used in Type 2 when lifestyle changes and oral medications are not sufficient.</td></tr><tr><td>What are the treatment options for type 1 diabetes?</td><td>For people with Type 1 diabetes, treatment primarily involves lifelong insulin therapy to manage blood sugar levels. Insulin can be administered through injections or via an insulin pump. In addition to insulin, individuals with Type 1 diabetes must closely monitor their blood sugar levels throughout the day, maintain a healthy diet, and engage in regular physical activity to help manage their condition. People with Type 1 diabetes also need to be vigilant about potential complications, such as diabetic ketoacidosis, and should regularly consult with their healthcare providers to adjust their treatment plan as needed.</td></tr><tr><td>What are the treatment options for type 2 diabetes?</td><td>For Type 2 diabetes, treatment typically starts with lifestyle modifications such as a balanced diet, regular exercise, and weight management. If lifestyle changes are not sufficient, oral medications such as metformin may be prescribed to help regulate blood sugar levels. In some cases, individuals with Type 2 diabetes may require insulin therapy or other injectable medications to improve insulin sensitivity. For those with severe Type 2 diabetes or obesity, bariatric surgery may be considered to help improve blood sugar control. The goal of treatment is to achieve normal blood sugar levels and prevent complications such as heart disease, kidney damage, or nerve damage.</td></tr><tr><td>How can I manage my blood sugar levels?</td><td>Managing blood sugar levels is essential for diabetes control. The key factors in blood sugar management include regular monitoring, taking prescribed medications, following a healthy diet, exercising regularly, and managing stress. Monitoring your blood sugar levels allows you to understand how food, exercise, and medications affect your glucose. A balanced diet rich in fiber, lean proteins, and healthy fats can help regulate blood sugar. Exercise increases insulin sensitivity, which helps control blood sugar levels. Stress management techniques, such as yoga and relaxation exercises, are also important for maintaining stable blood sugar. Regular doctor visits are essential to adjust treatment plans as needed.</td></tr><tr><td>What is a healthy diet for someone with diabetes?</td><td>A healthy diet for people with diabetes focuses on foods that help regulate blood sugar levels and promote overall health. This includes consuming whole grains, vegetables, lean proteins, and healthy fats while limiting foods with a high glycemic index, such as refined sugars and processed foods. Eating smaller, more frequent meals can also help maintain steady blood sugar levels throughout the day. Carbohydrate counting is a common practice for those with diabetes, as carbohydrates have a direct impact on blood sugar. It is important to work with a dietitian to develop a meal plan that meets individual needs and preferences while promoting blood sugar control.</td></tr><tr><td>How often should I check my blood sugar levels?</td><td>Blood sugar monitoring is essential for people with diabetes to understand how their body responds to different foods, activities, and medications. The frequency of testing depends on the type of diabetes and treatment plan. For individuals with Type 1 diabetes or those on insulin, blood sugar may need to be tested multiple times per day, including before and after meals or exercise. For Type 2 diabetes, the frequency of testing may vary based on medication use and blood sugar control. A healthcare provider can provide personalized recommendations for how often to check blood sugar levels, ensuring that levels remain within the target range to prevent complications.</td></tr></tbody></table></div>"
      ]
     },
     "metadata": {
      "application/vnd.databricks.v1+output": {
       "addedWidgets": {},
       "aggData": [],
       "aggError": "",
       "aggOverflow": false,
       "aggSchema": [],
       "aggSeriesLimitReached": false,
       "aggType": "",
       "arguments": {},
       "columnCustomDisplayInfos": {},
       "data": [
        [
         "What is diabetes?",
         "Diabetes is a chronic condition that affects how the body processes glucose (sugar). It occurs when the body cannot produce enough insulin or the insulin it produces is ineffective in regulating blood sugar. Insulin is a hormone produced by the pancreas that helps glucose enter the cells of the body for energy. Without sufficient insulin, glucose builds up in the bloodstream, leading to high blood sugar levels. Over time, uncontrolled diabetes can cause serious health complications such as heart disease, kidney damage, nerve damage, and vision problems. Proper management and treatment of diabetes are essential to preventing these complications and maintaining a good quality of life. Early detection, lifestyle changes, and medication are key factors in effectively managing the disease."
        ],
        [
         "What are the different types of diabetes?",
         "Diabetes is categorized into two main types: Type 1 and Type 2. Type 1 diabetes is an autoimmune condition where the body’s immune system attacks and destroys the insulin-producing cells in the pancreas, leading to little or no insulin production. It typically develops in children or young adults and requires lifelong insulin therapy. Type 2 diabetes, on the other hand, occurs when the body becomes resistant to insulin or does not produce enough insulin to meet the body’s needs. It is more common in adults, particularly those who are overweight, inactive, or have a family history of the disease. While Type 1 is not preventable, Type 2 can often be prevented or delayed through lifestyle changes, including diet and exercise."
        ],
        [
         "What are the symptoms of diabetes?",
         "The symptoms of diabetes can vary depending on the type and how long the condition has been present. Common signs include frequent urination, excessive thirst, hunger, and unexplained weight loss. Some people may experience blurred vision, fatigue, and slow-healing wounds. In the case of Type 1 diabetes, symptoms often develop rapidly, while Type 2 diabetes symptoms may be more subtle and develop over time. Because the early symptoms may not always be noticeable, it is important to get regular check-ups, especially if you are at risk for diabetes. Uncontrolled diabetes can lead to serious complications, so timely diagnosis and treatment are essential."
        ],
        [
         "How is diabetes diagnosed?",
         "Diabetes is diagnosed through various blood tests. The fasting blood glucose test measures blood sugar levels after an overnight fast, while the oral glucose tolerance test checks how well the body processes sugar after consuming a sugary drink. The HbA1c test, which reflects the average blood sugar levels over the past 2-3 months, is also commonly used to diagnose and monitor diabetes. An HbA1c level of 6.5% or higher is typically indicative of diabetes. A diagnosis may also involve checking for other conditions associated with diabetes, such as high blood pressure or cholesterol imbalances. Early detection allows for better management and prevention of complications."
        ],
        [
         "What is the role of insulin in diabetes?",
         "Insulin is a hormone produced by the pancreas that helps regulate blood sugar levels by allowing glucose to enter cells for energy. In people with diabetes, either the body does not produce enough insulin (Type 1 diabetes) or the body’s cells do not respond effectively to insulin (Type 2 diabetes). As a result, glucose accumulates in the bloodstream, leading to high blood sugar. Insulin therapy, typically in the form of injections or an insulin pump, helps to lower blood sugar levels and mimic the body’s natural insulin production. Insulin is a crucial part of managing diabetes, particularly for those with Type 1, and can also be used in Type 2 when lifestyle changes and oral medications are not sufficient."
        ],
        [
         "What are the treatment options for type 1 diabetes?",
         "For people with Type 1 diabetes, treatment primarily involves lifelong insulin therapy to manage blood sugar levels. Insulin can be administered through injections or via an insulin pump. In addition to insulin, individuals with Type 1 diabetes must closely monitor their blood sugar levels throughout the day, maintain a healthy diet, and engage in regular physical activity to help manage their condition. People with Type 1 diabetes also need to be vigilant about potential complications, such as diabetic ketoacidosis, and should regularly consult with their healthcare providers to adjust their treatment plan as needed."
        ],
        [
         "What are the treatment options for type 2 diabetes?",
         "For Type 2 diabetes, treatment typically starts with lifestyle modifications such as a balanced diet, regular exercise, and weight management. If lifestyle changes are not sufficient, oral medications such as metformin may be prescribed to help regulate blood sugar levels. In some cases, individuals with Type 2 diabetes may require insulin therapy or other injectable medications to improve insulin sensitivity. For those with severe Type 2 diabetes or obesity, bariatric surgery may be considered to help improve blood sugar control. The goal of treatment is to achieve normal blood sugar levels and prevent complications such as heart disease, kidney damage, or nerve damage."
        ],
        [
         "How can I manage my blood sugar levels?",
         "Managing blood sugar levels is essential for diabetes control. The key factors in blood sugar management include regular monitoring, taking prescribed medications, following a healthy diet, exercising regularly, and managing stress. Monitoring your blood sugar levels allows you to understand how food, exercise, and medications affect your glucose. A balanced diet rich in fiber, lean proteins, and healthy fats can help regulate blood sugar. Exercise increases insulin sensitivity, which helps control blood sugar levels. Stress management techniques, such as yoga and relaxation exercises, are also important for maintaining stable blood sugar. Regular doctor visits are essential to adjust treatment plans as needed."
        ],
        [
         "What is a healthy diet for someone with diabetes?",
         "A healthy diet for people with diabetes focuses on foods that help regulate blood sugar levels and promote overall health. This includes consuming whole grains, vegetables, lean proteins, and healthy fats while limiting foods with a high glycemic index, such as refined sugars and processed foods. Eating smaller, more frequent meals can also help maintain steady blood sugar levels throughout the day. Carbohydrate counting is a common practice for those with diabetes, as carbohydrates have a direct impact on blood sugar. It is important to work with a dietitian to develop a meal plan that meets individual needs and preferences while promoting blood sugar control."
        ],
        [
         "How often should I check my blood sugar levels?",
         "Blood sugar monitoring is essential for people with diabetes to understand how their body responds to different foods, activities, and medications. The frequency of testing depends on the type of diabetes and treatment plan. For individuals with Type 1 diabetes or those on insulin, blood sugar may need to be tested multiple times per day, including before and after meals or exercise. For Type 2 diabetes, the frequency of testing may vary based on medication use and blood sugar control. A healthcare provider can provide personalized recommendations for how often to check blood sugar levels, ensuring that levels remain within the target range to prevent complications."
        ]
       ],
       "datasetInfos": [],
       "dbfsResultPath": null,
       "isJsonSchema": true,
       "metadata": {},
       "overflow": false,
       "plotOptions": {
        "customPlotOptions": {},
        "displayType": "table",
        "pivotAggregation": null,
        "pivotColumns": null,
        "xColumns": null,
        "yColumns": null
       },
       "removedWidgets": [],
       "schema": [
        {
         "metadata": "{}",
         "name": "Topic",
         "type": "\"string\""
        },
        {
         "metadata": "{}",
         "name": "Description",
         "type": "\"string\""
        }
       ],
       "type": "table"
      }
     },
     "output_type": "display_data"
    },
    {
     "output_type": "stream",
     "name": "stdout",
     "output_type": "stream",
     "text": [
      "root\n |-- Topic: string (nullable = true)\n |-- Description: string (nullable = true)\n\n"
     ]
    }
   ],
   "source": [
    "from pyspark.sql.functions import *\n",
    "\n",
    "df = spark.read.load('/Volumes/dbx_premium/default/rag_lab', format='csv', header=True)\n",
    "display(df.limit(10))\n",
    "df.printSchema()"
   ]
  },
  {
   "cell_type": "markdown",
   "metadata": {
    "application/vnd.databricks.v1+cell": {
     "cellMetadata": {},
     "inputWidgets": {},
     "nuid": "241c907b-9ae0-4bce-b0b3-a723691ffa97",
     "showTitle": false,
     "tableResultSettingsMap": {},
     "title": ""
    }
   },
   "source": [
    "### Installing the openai SDK in our python kernel"
   ]
  },
  {
   "cell_type": "code",
   "execution_count": 0,
   "metadata": {
    "application/vnd.databricks.v1+cell": {
     "cellMetadata": {
      "byteLimit": 2048000,
      "rowLimit": 10000
     },
     "inputWidgets": {},
     "nuid": "db02c2d5-ca12-43e7-8df1-2516104a1427",
     "showTitle": false,
     "tableResultSettingsMap": {},
     "title": ""
    },
    "vscode": {
     "languageId": "plaintext"
    }
   },
   "outputs": [],
   "source": [
    "%pip install openai==1.56.0"
   ]
  },
  {
   "cell_type": "markdown",
   "metadata": {
    "application/vnd.databricks.v1+cell": {
     "cellMetadata": {},
     "inputWidgets": {},
     "nuid": "4ae248a0-e472-4b41-a979-678af761aa6f",
     "showTitle": false,
     "tableResultSettingsMap": {},
     "title": ""
    }
   },
   "source": [
    "### Restarting our python kernel"
   ]
  },
  {
   "cell_type": "code",
   "execution_count": 0,
   "metadata": {
    "application/vnd.databricks.v1+cell": {
     "cellMetadata": {
      "byteLimit": 2048000,
      "rowLimit": 10000
     },
     "inputWidgets": {},
     "nuid": "8cdcaf06-0816-449d-acd4-b65c4833ad03",
     "showTitle": false,
     "tableResultSettingsMap": {},
     "title": ""
    },
    "vscode": {
     "languageId": "plaintext"
    }
   },
   "outputs": [],
   "source": [
    "dbutils.library.restartPython()"
   ]
  },
  {
   "cell_type": "markdown",
   "metadata": {
    "application/vnd.databricks.v1+cell": {
     "cellMetadata": {},
     "inputWidgets": {},
     "nuid": "e712bcf3-0827-4482-b3ea-2df479b66cce",
     "showTitle": false,
     "tableResultSettingsMap": {},
     "title": ""
    }
   },
   "source": [
    "### Creating an Azure OpenAI Client\n"
   ]
  },
  {
   "cell_type": "code",
   "execution_count": 0,
   "metadata": {
    "application/vnd.databricks.v1+cell": {
     "cellMetadata": {
      "byteLimit": 2048000,
      "rowLimit": 10000
     },
     "inputWidgets": {},
     "nuid": "07bdcb0f-1bc6-4c65-9ece-65990637661a",
     "showTitle": false,
     "tableResultSettingsMap": {},
     "title": ""
    },
    "vscode": {
     "languageId": "plaintext"
    }
   },
   "outputs": [],
   "source": [
    "from openai import AzureOpenAI\n",
    "import json\n",
    "\n",
    "openai_endpoint = \"https://tosrn-meqscj95-eastus2.cognitiveservices.azure.com/openai/deployments/gpt-4o-mini/chat/completions?api-version=2025-01-01-preview\"\n",
    "openai_key = \"EyZxKgi7fvPmk3kLvGrBELkcGzOPlAVtfWqvwh7WB9DuOP4gM9UsJQQJ99BHACHYHv6XJ3w3AAAAACOGOlg6\"\n",
    "\n",
    "client = AzureOpenAI(\n",
    "    api_key = openai_key,\n",
    "    api_version = \"2024-12-01-preview\",\n",
    "    azure_endpoint = openai_endpoint\n",
    ")"
   ]
  },
  {
   "cell_type": "markdown",
   "metadata": {
    "application/vnd.databricks.v1+cell": {
     "cellMetadata": {},
     "inputWidgets": {},
     "nuid": "09ca9a1e-4ed0-4d58-9f13-81d09cebc093",
     "showTitle": false,
     "tableResultSettingsMap": {},
     "title": ""
    }
   },
   "source": [
    "### Saving the updated/new dataframe into ADLS as parquet storage"
   ]
  },
  {
   "cell_type": "code",
   "execution_count": 0,
   "metadata": {
    "application/vnd.databricks.v1+cell": {
     "cellMetadata": {
      "byteLimit": 2048000,
      "rowLimit": 10000
     },
     "inputWidgets": {},
     "nuid": "c2cdc018-b7e5-4198-9e48-c7e528049321",
     "showTitle": false,
     "tableResultSettingsMap": {},
     "title": ""
    },
    "vscode": {
     "languageId": "plaintext"
    }
   },
   "outputs": [],
   "source": [
    "# Save the updated DataFrame as a Parquet file or table\n",
    "df.write.mode(\"overwrite\").parquet(\"/Volumes/dbx_premium/default/rag_lab/diabetes_faq.parquet\")\n",
    "df.write.format(\"delta\").mode(\"overwrite\").saveAsTable(\"default.diabetes_faq_table\")\n"
   ]
  },
  {
   "cell_type": "markdown",
   "metadata": {
    "application/vnd.databricks.v1+cell": {
     "cellMetadata": {},
     "inputWidgets": {},
     "nuid": "5e2b2ca1-d2f6-44b7-b6f6-4afb3f1cf598",
     "showTitle": false,
     "tableResultSettingsMap": {},
     "title": ""
    }
   },
   "source": [
    "### Installing the databricks vectorsearch SDK"
   ]
  },
  {
   "cell_type": "code",
   "execution_count": 0,
   "metadata": {
    "application/vnd.databricks.v1+cell": {
     "cellMetadata": {
      "byteLimit": 2048000,
      "rowLimit": 10000
     },
     "inputWidgets": {},
     "nuid": "769ac826-42de-4512-95d7-b347691c78f9",
     "showTitle": false,
     "tableResultSettingsMap": {},
     "title": ""
    },
    "vscode": {
     "languageId": "plaintext"
    }
   },
   "outputs": [],
   "source": [
    "%pip install databricks-vectorsearch"
   ]
  },
  {
   "cell_type": "markdown",
   "metadata": {
    "application/vnd.databricks.v1+cell": {
     "cellMetadata": {},
     "inputWidgets": {},
     "nuid": "86e3c2ca-59d3-46a6-8944-3f0622561fae",
     "showTitle": false,
     "tableResultSettingsMap": {},
     "title": ""
    }
   },
   "source": [
    "### Restarting our python environment"
   ]
  },
  {
   "cell_type": "code",
   "execution_count": 0,
   "metadata": {
    "application/vnd.databricks.v1+cell": {
     "cellMetadata": {
      "byteLimit": 2048000,
      "rowLimit": 10000
     },
     "inputWidgets": {},
     "nuid": "b6e402e3-eed4-4829-8b98-61d711a83804",
     "showTitle": false,
     "tableResultSettingsMap": {},
     "title": ""
    },
    "vscode": {
     "languageId": "plaintext"
    }
   },
   "outputs": [],
   "source": [
    "dbutils.library.restartPython()"
   ]
  },
  {
   "cell_type": "markdown",
   "metadata": {
    "application/vnd.databricks.v1+cell": {
     "cellMetadata": {},
     "inputWidgets": {},
     "nuid": "4159cf37-4b2c-4b0c-b906-0de86eb31fe0",
     "showTitle": false,
     "tableResultSettingsMap": {},
     "title": ""
    }
   },
   "source": [
    "### Enabling Change Data Feed on Our Table"
   ]
  },
  {
   "cell_type": "code",
   "execution_count": 0,
   "metadata": {
    "application/vnd.databricks.v1+cell": {
     "cellMetadata": {
      "byteLimit": 2048000,
      "rowLimit": 10000
     },
     "inputWidgets": {},
     "nuid": "236cff73-3211-458b-9a29-004c996440d3",
     "showTitle": false,
     "tableResultSettingsMap": {},
     "title": ""
    },
    "vscode": {
     "languageId": "plaintext"
    }
   },
   "outputs": [
    {
     "output_type": "execute_result",
     "data": {
      "text/plain": [
       "DataFrame[]"
      ]
     },
     "execution_count": 1,
     "metadata": {},
     "output_type": "execute_result"
    }
   ],
   "source": [
    "# Enable change data feed for the existing Delta table\n",
    "spark.sql(\"\"\"\n",
    "ALTER TABLE dbx_premium.default.diabetes_faq_table\n",
    "SET TBLPROPERTIES (delta.enableChangeDataFeed = true)\n",
    "\"\"\")"
   ]
  },
  {
   "cell_type": "markdown",
   "metadata": {
    "application/vnd.databricks.v1+cell": {
     "cellMetadata": {},
     "inputWidgets": {},
     "nuid": "36d351ee-0735-4ddc-b6fa-f823c74bba75",
     "showTitle": false,
     "tableResultSettingsMap": {},
     "title": ""
    }
   },
   "source": [
    "### Developing the Cluster managed Vector index"
   ]
  },
  {
   "cell_type": "code",
   "execution_count": 0,
   "metadata": {
    "application/vnd.databricks.v1+cell": {
     "cellMetadata": {
      "byteLimit": 2048000,
      "rowLimit": 10000
     },
     "inputWidgets": {},
     "nuid": "926ea183-4356-4e16-ac0c-9deecb24c6c3",
     "showTitle": false,
     "tableResultSettingsMap": {},
     "title": ""
    },
    "vscode": {
     "languageId": "plaintext"
    }
   },
   "outputs": [],
   "source": [
    "from databricks.vector_search.client import VectorSearchClient\n",
    "\n",
    "# vector_client = VectorSearchClient()\n",
    "\n",
    "# vector_client.create_endpoint(\n",
    "#      name=\"vector_search_endpoint\",\n",
    "#      endpoint_type=\"STANDARD\"\n",
    "#  )\n",
    "\n",
    "index = vector_client.create_delta_sync_index(\n",
    "   endpoint_name=\"vector_search_endpoint\",\n",
    "   source_table_name=\"dbx_premium.default.diabetes_faq_table\",\n",
    "   index_name=\"dbx_premium.default.diabetes_faq_index\",\n",
    "   pipeline_type=\"TRIGGERED\",\n",
    "   primary_key=\"Topic\",\n",
    "   embedding_source_column=\"Description\",\n",
    "   embedding_model_endpoint_name=\"databricks-gte-large-en\"\n",
    "  )"
   ]
  },
  {
   "cell_type": "markdown",
   "metadata": {
    "application/vnd.databricks.v1+cell": {
     "cellMetadata": {},
     "inputWidgets": {},
     "nuid": "fd5baa17-cf2f-4024-9ef0-d24eb2690090",
     "showTitle": false,
     "tableResultSettingsMap": {},
     "title": ""
    }
   },
   "source": [
    "### Triggering our Vector Index - Information Retriever"
   ]
  },
  {
   "cell_type": "code",
   "execution_count": 0,
   "metadata": {
    "application/vnd.databricks.v1+cell": {
     "cellMetadata": {
      "byteLimit": 2048000,
      "rowLimit": 10000
     },
     "inputWidgets": {},
     "nuid": "9d46ba3f-09f7-4542-b907-4b9011291c63",
     "showTitle": false,
     "tableResultSettingsMap": {},
     "title": ""
    },
    "vscode": {
     "languageId": "plaintext"
    }
   },
   "outputs": [
    {
     "output_type": "stream",
     "name": "stdout",
     "output_type": "stream",
     "text": [
      "[NOTICE] Using a notebook authentication token. Recommended for development only. For improved performance, please use Service Principal based authentication. To disable this message, pass disable_notice=True.\n['What are the different types of diabetes?', 'Diabetes is categorized into two main types: Type 1 and Type 2. Type 1 diabetes is an autoimmune condition where the body’s immune system attacks and destroys the insulin-producing cells in the pancreas, leading to little or no insulin production. It typically develops in children or young adults and requires lifelong insulin therapy. Type 2 diabetes, on the other hand, occurs when the body becomes resistant to insulin or does not produce enough insulin to meet the body’s needs. It is more common in adults, particularly those who are overweight, inactive, or have a family history of the disease. While Type 1 is not preventable, Type 2 can often be prevented or delayed through lifestyle changes, including diet and exercise.', 0.0015700209]\n"
     ]
    }
   ],
   "source": [
    "user_question = \"what is diabetes?\"\n",
    "\n",
    "results_dict = index.similarity_search(\n",
    "            query_text = \"{user_question}\",\n",
    "            columns = [\"Topic\", \"Description\"],\n",
    "            num_results=1\n",
    "          )\n",
    "\n",
    "content = str(results_dict['result']['data_array'][0])\n",
    "print(content)"
   ]
  },
  {
   "cell_type": "markdown",
   "metadata": {
    "application/vnd.databricks.v1+cell": {
     "cellMetadata": {},
     "inputWidgets": {},
     "nuid": "db4ee71f-09bb-4a3a-9f6d-febc34bb01e2",
     "showTitle": false,
     "tableResultSettingsMap": {},
     "title": ""
    }
   },
   "source": [
    "### Developing the Generation Component of our RAG architecture\n"
   ]
  },
  {
   "cell_type": "code",
   "execution_count": 0,
   "metadata": {
    "application/vnd.databricks.v1+cell": {
     "cellMetadata": {
      "byteLimit": 2048000,
      "rowLimit": 10000
     },
     "inputWidgets": {},
     "nuid": "0cfb876b-f365-4e68-805e-44aacaff5770",
     "showTitle": false,
     "tableResultSettingsMap": {},
     "title": ""
    },
    "vscode": {
     "languageId": "plaintext"
    }
   },
   "outputs": [
    {
     "output_type": "stream",
     "name": "stdout",
     "output_type": "stream",
     "text": [
      "Diabetes is a chronic medical condition that occurs when the body is unable to properly process food for use as energy. Specifically, it involves issues with insulin, a hormone produced by the pancreas that helps regulate blood sugar (glucose) levels. When diabetes is present, it can result in high levels of glucose in the blood, which can lead to various health complications over time.\n\nThere are two main types of diabetes: \n\n1. **Type 1 Diabetes**: This is an autoimmune condition where the body's immune system attacks and destroys the insulin-producing cells in the pancreas. This leads to little or no insulin production. Type 1 diabetes typically develops in children or young adults and requires lifelong insulin therapy.\n\n2. **Type 2 Diabetes**: This type occurs when the body becomes resistant to insulin or does not produce enough insulin to meet its needs. It is more common in adults, particularly those who are overweight, inactive, or have a family history of the disease. Unlike Type 1, Type 2 diabetes can often be prevented or delayed through lifestyle changes, including diet and exercise.\n"
     ]
    }
   ],
   "source": [
    "gpt_response = client.chat.completions.create(\n",
    "                model=\"gpt-4o-mini\", # model = \"deployment_name\".\n",
    "                messages=[\n",
    "                    {\"role\": \"system\", \"content\": \"You are a helpful assistant. You will be passed the user query and the supporting knowledge that can be used to answer the user_query\"},\n",
    "                    {\"role\": \"user\", \"content\": f\"user query : {user_question} and supporting knowledge: {content}\"}\n",
    "                ]\n",
    "            )\n",
    "print(gpt_response.choices[0].message.content)"
   ]
  },
  {
   "cell_type": "markdown",
   "metadata": {
    "application/vnd.databricks.v1+cell": {
     "cellMetadata": {},
     "inputWidgets": {},
     "nuid": "4b2049d0-9ce4-4b0a-ae39-aacc99248ce5",
     "showTitle": false,
     "tableResultSettingsMap": {},
     "title": ""
    }
   },
   "source": [
    "### Developing the RAG model"
   ]
  },
  {
   "cell_type": "code",
   "execution_count": 0,
   "metadata": {
    "application/vnd.databricks.v1+cell": {
     "cellMetadata": {
      "byteLimit": 2048000,
      "rowLimit": 10000
     },
     "inputWidgets": {},
     "nuid": "44332393-0002-40df-9c93-691e91c37c22",
     "showTitle": false,
     "tableResultSettingsMap": {},
     "title": ""
    },
    "vscode": {
     "languageId": "plaintext"
    }
   },
   "outputs": [
    {
     "output_type": "stream",
     "name": "stderr",
     "output_type": "stream",
     "text": [
      "/local_disk0/.ephemeral_nfs/envs/pythonEnv-65621a62-a9f9-427a-beec-24c22f6c3d9c/lib/python3.10/site-packages/mlflow/pyfunc/utils/data_validation.py:155: FutureWarning: Model's `predict` method contains invalid parameters: {'data'}. Only the following parameter names are allowed: context, model_input, and params. Note that invalid parameters will no longer be permitted in future versions.\n  param_names = _check_func_signature(func, \"predict\")\n/local_disk0/.ephemeral_nfs/envs/pythonEnv-65621a62-a9f9-427a-beec-24c22f6c3d9c/lib/python3.10/site-packages/mlflow/pyfunc/utils/data_validation.py:186: UserWarning: \u001B[33mAdd type hints to the `predict` method to enable data validation and automatic signature inference during model logging. Check https://mlflow.org/docs/latest/model/python_model.html#type-hint-usage-in-pythonmodel for more details.\u001B[0m\n  color_warning(\n"
     ]
    }
   ],
   "source": [
    "import mlflow\n",
    "from mlflow import pyfunc\n",
    "from openai import AzureOpenAI\n",
    "\n",
    "class RAGModel(pyfunc.PythonModel):\n",
    "      def __init__(self, vector_index):\n",
    "          self.vector_index=vector_index\n",
    "      \n",
    "      def retrieve(self, query):\n",
    "          results_dict = self.vector_index.similarity_search(\n",
    "            query_text = query,\n",
    "            columns = [\"Topic\", \"Description\"],\n",
    "            num_results=1\n",
    "          )\n",
    "\n",
    "          return results_dict\n",
    "        \n",
    "      def chatCompletionsAPI(self, user_query, supporting_knowledge):\n",
    "          openai_client = AzureOpenAI(\n",
    "            azure_endpoint = \"https://tosrn-meqscj95-eastus2.cognitiveservices.azure.com/openai/deployments/gpt-4o-mini/chat/completions?api-version=2025-01-01-preview\",\n",
    "            api_key = \"EyZxKgi7fvPmk3kLvGrBELkcGzOPlAVtfWqvwh7WB9DuOP4gM9UsJQQJ99BHACHYHv6XJ3w3AAAAACOGOlg6\",\n",
    "            api_version = \"2024-02-15-preview\"\n",
    "          )\n",
    "\n",
    "          response = openai_client.chat.completions.create(\n",
    "                model=\"gpt-4o-mini\", # model = \"deployment_name\".\n",
    "                messages=[\n",
    "                    {\"role\": \"system\", \"content\": \"You are a helpful assistant. You will be passed the user query and the supporting knowledge that can be used to answer the user_query\"},\n",
    "                    {\"role\": \"user\", \"content\": f\"user query : {user_query} and supporting knowledge: {supporting_knowledge}\"}\n",
    "                ]\n",
    "            )\n",
    "          return response.choices[0].message.content\n",
    "      \n",
    "      def predict(self, context, data):\n",
    "          query = data[\"query\"].iloc[0]\n",
    "          text_data = self.retrieve(query)\n",
    "          return self.chatCompletionsAPI(query, text_data)\n",
    "          \n",
    "\n",
    "\n",
    "      "
   ]
  },
  {
   "cell_type": "markdown",
   "metadata": {
    "application/vnd.databricks.v1+cell": {
     "cellMetadata": {},
     "inputWidgets": {},
     "nuid": "c65823b9-72e1-40c0-b601-f687e68b6d1c",
     "showTitle": false,
     "tableResultSettingsMap": {},
     "title": ""
    }
   },
   "source": [
    "### Saving our Model"
   ]
  },
  {
   "cell_type": "code",
   "execution_count": 0,
   "metadata": {
    "application/vnd.databricks.v1+cell": {
     "cellMetadata": {
      "byteLimit": 2048000,
      "rowLimit": 10000
     },
     "inputWidgets": {},
     "nuid": "ba832e75-5f25-4c8f-b7e4-a5c142992e0d",
     "showTitle": false,
     "tableResultSettingsMap": {},
     "title": ""
    },
    "vscode": {
     "languageId": "plaintext"
    }
   },
   "outputs": [],
   "source": [
    "test_model = RAGModel(vector_index=index)"
   ]
  },
  {
   "cell_type": "code",
   "execution_count": 0,
   "metadata": {
    "application/vnd.databricks.v1+cell": {
     "cellMetadata": {
      "byteLimit": 2048000,
      "rowLimit": 10000
     },
     "inputWidgets": {},
     "nuid": "c7ea82c2-bbbf-4f22-9243-49570b5dce5d",
     "showTitle": false,
     "tableResultSettingsMap": {},
     "title": ""
    },
    "vscode": {
     "languageId": "plaintext"
    }
   },
   "outputs": [
    {
     "output_type": "stream",
     "name": "stderr",
     "output_type": "stream",
     "text": [
      "/local_disk0/.ephemeral_nfs/envs/pythonEnv-65621a62-a9f9-427a-beec-24c22f6c3d9c/lib/python3.10/site-packages/mlflow/pyfunc/__init__.py:3287: UserWarning: \u001B[1;33mAn input example was not provided when logging the model. To ensure the model signature functions correctly, specify the `input_example` parameter. See https://mlflow.org/docs/latest/model/signatures.html#model-input-example for more details about the benefits of using input_example.\u001B[0m\n  color_warning(\n"
     ]
    }
   ],
   "source": [
    "from mlflow.models import infer_signature\n",
    "import pandas as pd\n",
    "\n",
    "signature = infer_signature(pd.DataFrame([{\"query\": \"what is diabetes?\"}]))\n",
    "model_path = \"RAGKULJOTmodel\"\n",
    "mlflow.pyfunc.save_model(path=model_path, python_model=test_model, signature=signature)"
   ]
  },
  {
   "cell_type": "markdown",
   "metadata": {
    "application/vnd.databricks.v1+cell": {
     "cellMetadata": {},
     "inputWidgets": {},
     "nuid": "88a31183-de19-4865-885d-f0ccb448a75f",
     "showTitle": false,
     "tableResultSettingsMap": {},
     "title": ""
    }
   },
   "source": [
    "### Loading Our Saved Model"
   ]
  },
  {
   "cell_type": "code",
   "execution_count": 0,
   "metadata": {
    "application/vnd.databricks.v1+cell": {
     "cellMetadata": {
      "byteLimit": 2048000,
      "rowLimit": 10000
     },
     "inputWidgets": {},
     "nuid": "1a8e84af-0c22-403c-ad19-633346bc096e",
     "showTitle": false,
     "tableResultSettingsMap": {},
     "title": ""
    },
    "vscode": {
     "languageId": "plaintext"
    }
   },
   "outputs": [],
   "source": [
    "# Load our custom model from the local artifact store\n",
    "loaded_pyfunc_model = mlflow.pyfunc.load_model(model_path)\n"
   ]
  },
  {
   "cell_type": "markdown",
   "metadata": {
    "application/vnd.databricks.v1+cell": {
     "cellMetadata": {},
     "inputWidgets": {},
     "nuid": "8c42bf19-9b57-4157-af97-6e8ec30c7da3",
     "showTitle": false,
     "tableResultSettingsMap": {},
     "title": ""
    }
   },
   "source": [
    "### Testing our Loaded/Saved Model"
   ]
  },
  {
   "cell_type": "code",
   "execution_count": 0,
   "metadata": {
    "application/vnd.databricks.v1+cell": {
     "cellMetadata": {
      "byteLimit": 2048000,
      "rowLimit": 10000
     },
     "inputWidgets": {},
     "nuid": "df100fa5-67b4-45c3-bd98-28b05fb0d206",
     "showTitle": false,
     "tableResultSettingsMap": {},
     "title": ""
    },
    "vscode": {
     "languageId": "plaintext"
    }
   },
   "outputs": [
    {
     "output_type": "stream",
     "name": "stdout",
     "output_type": "stream",
     "text": [
      "[NOTICE] Using a notebook authentication token. Recommended for development only. For improved performance, please use Service Principal based authentication. To disable this message, pass disable_notice=True.\nDiabetes is a chronic condition that affects how the body processes glucose (sugar). It happens when the body cannot produce enough insulin or when the insulin it produces is ineffective in regulating blood sugar levels. Insulin is a hormone created by the pancreas that allows glucose to enter the cells for energy. When there is insufficient insulin, glucose accumulates in the bloodstream, leading to high blood sugar levels. \n\nIf diabetes is left uncontrolled, it can result in serious health complications, including heart disease, kidney damage, nerve damage, and vision problems. Effective management and treatment are crucial for preventing these complications and maintaining a good quality of life. This typically involves early detection, lifestyle changes, and, when necessary, medication.\n"
     ]
    }
   ],
   "source": [
    "model_input = pd.DataFrame([{\"query\": \"what is diabetes?\"}])\n",
    "\n",
    "model_response = loaded_pyfunc_model.predict(model_input)\n",
    "\n",
    "print(model_response)"
   ]
  },
  {
   "cell_type": "markdown",
   "metadata": {
    "application/vnd.databricks.v1+cell": {
     "cellMetadata": {},
     "inputWidgets": {},
     "nuid": "895a104f-b283-4516-b28e-eb981029da44",
     "showTitle": false,
     "tableResultSettingsMap": {},
     "title": ""
    }
   },
   "source": [
    "### Logging our saved model as an artifact"
   ]
  },
  {
   "cell_type": "code",
   "execution_count": 0,
   "metadata": {
    "application/vnd.databricks.v1+cell": {
     "cellMetadata": {
      "byteLimit": 2048000,
      "rowLimit": 10000
     },
     "inputWidgets": {},
     "nuid": "8494b694-0335-4786-9f8d-ce370ced3870",
     "showTitle": false,
     "tableResultSettingsMap": {},
     "title": ""
    },
    "vscode": {
     "languageId": "plaintext"
    }
   },
   "outputs": [
    {
     "output_type": "display_data",
     "data": {
      "application/vnd.jupyter.widget-view+json": {
       "model_id": "bd66267e2b7246df80cbe9277bcdeb0e",
       "version_major": 2,
       "version_minor": 0
      },
      "text/plain": [
       "Uploading artifacts:   0%|          | 0/5 [00:00<?, ?it/s]"
      ]
     },
     "metadata": {},
     "output_type": "display_data"
    },
    {
     "output_type": "stream",
     "name": "stdout",
     "output_type": "stream",
     "text": [
      "Model logged with run ID: f59e52a2bc304bc0a93bbbdc6779a7e3\n"
     ]
    }
   ],
   "source": [
    "import mlflow\n",
    "\n",
    "# Log the model as an artifact\n",
    "with mlflow.start_run() as run:\n",
    "    mlflow.log_artifacts(local_dir=model_path, artifact_path=\"rag_model\")\n",
    "    print(f\"Model logged with run ID: {run.info.run_id}\")\n"
   ]
  },
  {
   "cell_type": "markdown",
   "metadata": {
    "application/vnd.databricks.v1+cell": {
     "cellMetadata": {},
     "inputWidgets": {},
     "nuid": "01d4114b-fa99-4a6d-a6a7-da84f1a6b458",
     "showTitle": false,
     "tableResultSettingsMap": {},
     "title": ""
    }
   },
   "source": [
    "### Inferencing the real-time endpoint"
   ]
  },
  {
   "cell_type": "code",
   "execution_count": 0,
   "metadata": {
    "application/vnd.databricks.v1+cell": {
     "cellMetadata": {
      "byteLimit": 2048000,
      "rowLimit": 10000
     },
     "inputWidgets": {},
     "nuid": "dfbd3275-99ea-49b1-9a6c-42aef1ac1b7e",
     "showTitle": false,
     "tableResultSettingsMap": {},
     "title": ""
    },
    "vscode": {
     "languageId": "plaintext"
    }
   },
   "outputs": [
    {
     "output_type": "execute_result",
     "data": {
      "text/plain": [
       "{'dataframe_records': [{'query': 'what is diabetes?'}]}"
      ]
     },
     "execution_count": 21,
     "metadata": {},
     "output_type": "execute_result"
    }
   ],
   "source": [
    "{\n",
    "  \"dataframe_records\":[\n",
    "    {\n",
    "        \"query\":\"what is diabetes?\"\n",
    "    }\n",
    "  ]\n",
    "}"
   ]
  }
 ],
 "metadata": {
  "application/vnd.databricks.v1+notebook": {
   "computePreferences": {
    "hardware": {
     "accelerator": null,
     "gpuPoolId": null,
     "memory": null
    }
   },
   "dashboards": [],
   "environmentMetadata": null,
   "inputWidgetPreferences": null,
   "language": "python",
   "notebookMetadata": {
    "mostRecentlyExecutedCommandWithImplicitDF": {
     "commandId": 6518688009574838,
     "dataframes": [
      "_sqldf"
     ]
    },
    "pythonIndentUnit": 4
   },
   "notebookName": "RAG_old",
   "widgets": {}
  },
  "language_info": {
   "name": "python"
  }
 },
 "nbformat": 4,
 "nbformat_minor": 0
}